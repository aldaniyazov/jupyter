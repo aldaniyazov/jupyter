{
 "cells": [
  {
   "attachments": {},
   "cell_type": "markdown",
   "metadata": {},
   "source": [
    "#### Условие 2:\n",
    "На складе лежат разные фрукты в разном количестве.\n",
    "Нужно написать функцию, которая на вход принимает любое количество названий фруктов и их количество, а возвращает общее количество фруктов на складе"
   ]
  },
  {
   "cell_type": "code",
   "execution_count": 1,
   "metadata": {},
   "outputs": [],
   "source": [
    "import random"
   ]
  },
  {
   "cell_type": "code",
   "execution_count": 9,
   "metadata": {},
   "outputs": [],
   "source": [
    "def count_fruits(fruit_names):\n",
    "    total_count = 0\n",
    "    for fruit in fruit_names:\n",
    "        fruit_count = random.randint(0, 100)\n",
    "        print(f\"{fruit}: {fruit_count}\")\n",
    "        total_count += fruit_count\n",
    "    return total_count"
   ]
  },
  {
   "cell_type": "code",
   "execution_count": 11,
   "metadata": {},
   "outputs": [],
   "source": [
    "fruits = ['apples', 'oranges', 'bananas', 'watermelons', 'lemons', 'strawberries']"
   ]
  },
  {
   "cell_type": "code",
   "execution_count": 12,
   "metadata": {},
   "outputs": [
    {
     "name": "stdout",
     "output_type": "stream",
     "text": [
      "apples: 73\n",
      "oranges: 58\n",
      "bananas: 13\n",
      "watermelons: 93\n",
      "lemons: 27\n",
      "strawberries: 92\n",
      "Общее количество фруктов на складе: 356\n"
     ]
    }
   ],
   "source": [
    "total_fruits = count_fruits(fruits)\n",
    "print(f\"Общее количество фруктов на складе: {total_fruits}\")"
   ]
  },
  {
   "attachments": {},
   "cell_type": "markdown",
   "metadata": {},
   "source": [
    "#### Условие 3:\n",
    "Дан список с затратами на рекламу. Но в данных есть ошибки, некоторые затраты имеют отрицательную величину. Удалите такие значения из списка и посчитайте суммарные затраты: [100, 125, -90, 345, 655, -1, 0, 200]\n",
    "Используйте list comprehensions"
   ]
  },
  {
   "cell_type": "code",
   "execution_count": 14,
   "metadata": {},
   "outputs": [
    {
     "name": "stdout",
     "output_type": "stream",
     "text": [
      "Суммарные затраты (без отрицательных значений): 1425\n"
     ]
    }
   ],
   "source": [
    "expenses = [100, 125, -90, 345, 655, -1, 0, 200]\n",
    "positive_expenses_sum = sum([expense for expense in expenses if expense >= 0])\n",
    "print(f\"Суммарные затраты (без отрицательных значений): {positive_expenses_sum}\")"
   ]
  },
  {
   "attachments": {},
   "cell_type": "markdown",
   "metadata": {},
   "source": [
    "#### Условие 4.1:\n",
    "Даны два списка.\n",
    "Дата покупки\n",
    "```\n",
    "['2021-09-14', '2021-12-15', '2021-09-08', '2021-12-05', '2021-10-09', '2021-09-30', '2021-12-22', '2021-11-29', '2021-12-24', '2021-11-26', '2021-10-27', '2021-12-18', '2021-11-09', '2021-11-23', '2021-09-27', '2021-10-02', '2021-12-27', '2021-09-20', '2021-12-13', '2021-11-01', '2021-11-09', '2021-12-06', '2021-12-08', '2021-10-09', '2021-10-31', '2021-09-30', '2021-11-09', '2021-12-13', '2021-10-26', '2021-12-09']\n",
    "```\n",
    "Суммы покупок по датам\n",
    "```\n",
    "[1270, 8413, 9028, 3703, 5739, 4095, 295, 4944, 5723, 3701, 4471, 651, 7037, 4274, 6275, 4988, 6930, 2971, 6592, 2004, 2822, 519, 3406, 2732, 5015, 2008, 316, 6333, 5700, 2887]\n",
    "```"
   ]
  },
  {
   "cell_type": "code",
   "execution_count": 15,
   "metadata": {},
   "outputs": [],
   "source": [
    "purchase_dates = ['2021-09-14', '2021-12-15', '2021-09-08', '2021-12-05', '2021-10-09', '2021-09-30', '2021-12-22', '2021-11-29', '2021-12-24', '2021-11-26', '2021-10-27', '2021-12-18', '2021-11-09', '2021-11-23', '2021-09-27', '2021-10-02', '2021-12-27', '2021-09-20', '2021-12-13', '2021-11-01', '2021-11-09', '2021-12-06', '2021-12-08', '2021-10-09', '2021-10-31', '2021-09-30', '2021-11-09', '2021-12-13', '2021-10-26', '2021-12-09']\n",
    "purchase_amounts = [1270, 8413, 9028, 3703, 5739, 4095, 295, 4944, 5723, 3701, 4471, 651, 7037, 4274, 6275, 4988, 6930, 2971, 6592, 2004, 2822, 519, 3406, 2732, 5015, 2008, 316, 6333, 5700, 2887]"
   ]
  },
  {
   "cell_type": "code",
   "execution_count": 16,
   "metadata": {},
   "outputs": [
    {
     "name": "stdout",
     "output_type": "stream",
     "text": [
      "{'2021-09-14': 1270, '2021-12-15': 8413, '2021-09-08': 9028, '2021-12-05': 3703, '2021-10-09': 8471, '2021-09-30': 6103, '2021-12-22': 295, '2021-11-29': 4944, '2021-12-24': 5723, '2021-11-26': 3701, '2021-10-27': 4471, '2021-12-18': 651, '2021-11-09': 10175, '2021-11-23': 4274, '2021-09-27': 6275, '2021-10-02': 4988, '2021-12-27': 6930, '2021-09-20': 2971, '2021-12-13': 12925, '2021-11-01': 2004, '2021-12-06': 519, '2021-12-08': 3406, '2021-10-31': 5015, '2021-10-26': 5700, '2021-12-09': 2887}\n"
     ]
    }
   ],
   "source": [
    "purchase_dict = {}\n",
    "\n",
    "for date, amount in zip(purchase_dates, purchase_amounts):\n",
    "    if date in purchase_dict:\n",
    "        purchase_dict[date] += amount\n",
    "    else:\n",
    "        purchase_dict[date] = amount\n",
    "\n",
    "print(purchase_dict)"
   ]
  },
  {
   "attachments": {},
   "cell_type": "markdown",
   "metadata": {},
   "source": [
    "#### 4.1\n",
    "Найдите, какая выручка у компании в ноябре\n",
    "Используйте **list comprehensions**"
   ]
  },
  {
   "cell_type": "code",
   "execution_count": 17,
   "metadata": {},
   "outputs": [
    {
     "name": "stdout",
     "output_type": "stream",
     "text": [
      "Выручка компании в ноябре: 25098\n"
     ]
    }
   ],
   "source": [
    "november_revenue = sum([amount for date, amount in zip(purchase_dates, purchase_amounts) if date.startswith('2021-11')])\n",
    "\n",
    "print(\"Выручка компании в ноябре:\", november_revenue)"
   ]
  },
  {
   "attachments": {},
   "cell_type": "markdown",
   "metadata": {},
   "source": [
    "#### 4.2 \n",
    "Найдите выручку компании в зависимости от месяца\n",
    "Для этого напишите функцию, которая на вход принимает список с датами и список с выручкой, а на выходе словарь, где ключи - это месяцы, а значения - это выручка.\n",
    "Используйте аннотирование типов."
   ]
  },
  {
   "cell_type": "code",
   "execution_count": 18,
   "metadata": {},
   "outputs": [],
   "source": [
    "from typing import List, Dict"
   ]
  },
  {
   "cell_type": "code",
   "execution_count": 19,
   "metadata": {},
   "outputs": [
    {
     "name": "stdout",
     "output_type": "stream",
     "text": [
      "{'09': 25647, '12': 45452, '10': 28645, '11': 25098}\n"
     ]
    }
   ],
   "source": [
    "def calculate_revenue_by_month(dates: List[str], revenue: List[int]) -> Dict[str, int]:\n",
    "    revenue_by_month = {}\n",
    "\n",
    "    for date, amount in zip(dates, revenue):\n",
    "        month = date.split('-')[1]\n",
    "        if month in revenue_by_month:\n",
    "            revenue_by_month[month] += amount\n",
    "        else:\n",
    "            revenue_by_month[month] = amount\n",
    "\n",
    "    return revenue_by_month\n",
    "\n",
    "revenue_by_month = calculate_revenue_by_month(purchase_dates, purchase_amounts)\n",
    "print(revenue_by_month)"
   ]
  }
 ],
 "metadata": {
  "kernelspec": {
   "display_name": "Python 3",
   "language": "python",
   "name": "python3"
  },
  "language_info": {
   "codemirror_mode": {
    "name": "ipython",
    "version": 3
   },
   "file_extension": ".py",
   "mimetype": "text/x-python",
   "name": "python",
   "nbconvert_exporter": "python",
   "pygments_lexer": "ipython3",
   "version": "3.11.4"
  },
  "orig_nbformat": 4
 },
 "nbformat": 4,
 "nbformat_minor": 2
}
